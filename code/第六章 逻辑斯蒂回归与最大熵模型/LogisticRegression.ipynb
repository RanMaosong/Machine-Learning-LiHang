{
 "cells": [
  {
   "cell_type": "code",
   "execution_count": 1,
   "metadata": {},
   "outputs": [],
   "source": [
    "import numpy as np\n",
    "from sklearn.model_selection import train_test_split\n",
    "from sklearn import datasets\n",
    "\n",
    "\n",
    "\n",
    "'''\n",
    "f(x) = 1 / （1+exp(-x))\n",
    "'''\n",
    "\n",
    "def create_dataset():\n",
    "    iris = datasets.load_iris()\n",
    "    x = iris.data\n",
    "    y = iris.target\n",
    "    new_x = []\n",
    "    new_y = []\n",
    "    for i in range(y.shape[0]):\n",
    "        if (y[i] < 2):\n",
    "            new_x.append(x[i])\n",
    "            new_y.append(y[i])\n",
    "    new_x = np.array(new_x)\n",
    "    new_y = np.array(new_y)\n",
    "    return new_x, new_y\n",
    "\n",
    "def sigmod(x):\n",
    "    return 1 / (1 + np.exp(-x))\n",
    "\n",
    "class LogisticRegression:\n",
    "    def __init__(self, epochs=50, lr=1e-4, threshold=0.5):\n",
    "        self.epochs = epochs\n",
    "        self.lr = lr\n",
    "        self.threshold = threshold\n",
    "        \n",
    "    def _extend_data(self, x):\n",
    "        new_x = []\n",
    "        for row in x:\n",
    "            new_x.append([*row, 1.0])\n",
    "        return np.array(new_x)\n",
    "    def fit(self, x, y):\n",
    "        '''\n",
    "            x: the features set of the samples, n*m, one row represent one sample\n",
    "            y: the label, {0, 1}\n",
    "        '''\n",
    "        \n",
    "        x_ = self._extend_data(x)\n",
    "        y = y[:, np.newaxis]\n",
    "        self.w = np.zeros( (x_.shape[1], 1))\n",
    "        for epoch in range(self.epochs):\n",
    "            z = np.dot(x_, self.w)\n",
    "            y_ = sigmod(z)\n",
    "            delta = np.dot(x_.T, y-y_)\n",
    "            self.w = self.w + self.lr * delta\n",
    "            loss = -np.sum(y*z - np.log(1+np.exp(z)))\n",
    "            print(\"Epoch: %d, Training Loss:%.4f, accurate: %f\" % (epoch, loss, self.score(x, y)))\n",
    "\n",
    "    def predict(self, x):\n",
    "        x = self._extend_data(x)\n",
    "        y = sigmod(np.dot(x, self.w))\n",
    "        y = np.squeeze(y)\n",
    "        return y\n",
    "\n",
    "    def score(self, x, y):\n",
    "        y_ = self.predict(x)\n",
    "        y = np.squeeze(y)\n",
    "        i = y_ >= self.threshold\n",
    "        y_[i] = 1\n",
    "        i = y_ < self.threshold\n",
    "        y_[i] = 0\n",
    "        return np.mean(np.abs(y == y_))\n",
    "\n",
    "    def set_threshold(self, v):\n",
    "        self.threshold = v"
   ]
  },
  {
   "cell_type": "code",
   "execution_count": 3,
   "metadata": {},
   "outputs": [
    {
     "name": "stdout",
     "output_type": "stream",
     "text": [
      "Epoch: 0, Training Loss:55.4518, accurate: 0.512500\n",
      "Epoch: 1, Training Loss:51.8166, accurate: 0.512500\n",
      "Epoch: 2, Training Loss:49.2586, accurate: 0.600000\n",
      "Epoch: 3, Training Loss:46.8843, accurate: 0.937500\n",
      "Epoch: 4, Training Loss:44.6798, accurate: 1.000000\n",
      "Epoch: 5, Training Loss:42.6318, accurate: 1.000000\n",
      "Epoch: 6, Training Loss:40.7279, accurate: 1.000000\n",
      "Epoch: 7, Training Loss:38.9567, accurate: 1.000000\n",
      "Epoch: 8, Training Loss:37.3073, accurate: 1.000000\n",
      "Epoch: 9, Training Loss:35.7698, accurate: 1.000000\n",
      "1.0\n"
     ]
    }
   ],
   "source": [
    "x, y = create_dataset()\n",
    "x_train, x_test, y_train, y_test = train_test_split(x, y, test_size=0.2)\n",
    "lr = LogisticRegression(lr=1e-3, epochs=10)\n",
    "lr.fit(x_train, y_train)\n",
    "score = lr.score(x_test, y_test)\n",
    "print(score)"
   ]
  },
  {
   "cell_type": "code",
   "execution_count": null,
   "metadata": {},
   "outputs": [],
   "source": []
  }
 ],
 "metadata": {
  "kernelspec": {
   "display_name": "Python 3",
   "language": "python",
   "name": "python3"
  },
  "language_info": {
   "codemirror_mode": {
    "name": "ipython",
    "version": 3
   },
   "file_extension": ".py",
   "mimetype": "text/x-python",
   "name": "python",
   "nbconvert_exporter": "python",
   "pygments_lexer": "ipython3",
   "version": "3.5.3"
  }
 },
 "nbformat": 4,
 "nbformat_minor": 2
}
